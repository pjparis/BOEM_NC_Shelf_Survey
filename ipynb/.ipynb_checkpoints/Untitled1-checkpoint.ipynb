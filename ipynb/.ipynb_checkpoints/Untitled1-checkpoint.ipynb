{
 "cells": [
  {
   "cell_type": "markdown",
   "metadata": {},
   "source": [
    "### SedSAS - Quantile Extrapolation Testing"
   ]
  },
  {
   "cell_type": "markdown",
   "metadata": {},
   "source": [
    "Tests the accuracy of extrapolation approach(es) used to generate quantile values from cumulative weight curves when the data is undetermined (partially bounded) for one or more of the requisite quantile values.\n",
    "\n",
    "It is common when dry sieving sediment in geologic particle size analyses to capture excess material in the largest aperture sieve, or find an excess of sediments falling through below the smallest aperture into the collection pan at the bottom of the stack. By excess we mean an amount that, when compiling the sample's cumuative weight density curve the data endpoints do not extend sufficiently such that all quantiles required for moment computations can be determined via interpolation methods. "
   ]
  },
  {
   "cell_type": "markdown",
   "metadata": {},
   "source": [
    "#### Import the required Python libraries, modules, and magics:"
   ]
  },
  {
   "cell_type": "code",
   "execution_count": 5,
   "metadata": {},
   "outputs": [],
   "source": [
    "import sys\n",
    "import numpy as np\n",
    "import pandas as pd\n",
    "\n",
    "sys.path.append( '/Users/paulp/GoogleDrive/projects/SedSAS' )\n",
    "import SedSASClass"
   ]
  },
  {
   "cell_type": "markdown",
   "metadata": {},
   "source": [
    "#### The Data:"
   ]
  },
  {
   "cell_type": "code",
   "execution_count": 34,
   "metadata": {},
   "outputs": [
    {
     "name": "stdout",
     "output_type": "stream",
     "text": [
      "67.54000000000003\n"
     ]
    },
    {
     "data": {
      "text/html": [
       "<div>\n",
       "<style scoped>\n",
       "    .dataframe tbody tr th:only-of-type {\n",
       "        vertical-align: middle;\n",
       "    }\n",
       "\n",
       "    .dataframe tbody tr th {\n",
       "        vertical-align: top;\n",
       "    }\n",
       "\n",
       "    .dataframe thead th {\n",
       "        text-align: right;\n",
       "    }\n",
       "</style>\n",
       "<table border=\"1\" class=\"dataframe\">\n",
       "  <thead>\n",
       "    <tr style=\"text-align: right;\">\n",
       "      <th></th>\n",
       "      <th>phi-4.5</th>\n",
       "      <th>phi-4</th>\n",
       "      <th>phi-3</th>\n",
       "      <th>phi-2.25</th>\n",
       "      <th>phi-2</th>\n",
       "      <th>phi-1</th>\n",
       "    </tr>\n",
       "  </thead>\n",
       "  <tbody>\n",
       "    <tr>\n",
       "      <th>Wgt</th>\n",
       "      <td>0.0</td>\n",
       "      <td>0.0</td>\n",
       "      <td>2.37</td>\n",
       "      <td>12.51</td>\n",
       "      <td>8.14</td>\n",
       "      <td>41.91</td>\n",
       "    </tr>\n",
       "  </tbody>\n",
       "</table>\n",
       "</div>"
      ],
      "text/plain": [
       "     phi-4.5  phi-4  phi-3  phi-2.25  phi-2  phi-1\n",
       "Wgt      0.0    0.0   2.37     12.51   8.14  41.91"
      ]
     },
     "execution_count": 34,
     "metadata": {},
     "output_type": "execute_result"
    }
   ],
   "source": [
    "# sheet_code,sample_date,transect_id,sample_number,pan_weight,pan+wet_weight,\n",
    "# pan+dry_weight,phi_-1,\"phi_-0,5\",phi_0,\"phi_0,5\",phi_1,\"phi_1,25\",\"phi_1,5\",\n",
    "# \"phi_1,75\",phi_2,\"phi_2,5\",phi_3,\"phi_3,5\",phi_4,remainder\n",
    "\n",
    "hdrA=[ 'phi-1','phi-0.5','phi 0','phi 0.5','phi 1','phi 1.25','phi 1.5',\n",
    "     'phi 1.75','phi 2','phi 2.5','phi 3','phi 3.5','phi 4','pan' ]\n",
    "hdrB=['phi-4.5','phi-4','phi-3','phi-2.25','phi-2','phi-1']\n",
    "screensA=[-1.0,-0.5,0.0,0.5,1.0,1.25,1.50,1.75,2.0,2.5,3.0,3.5,4.0,5.0]\n",
    "screensB=[-4.5,-4.0,-3.0,-2.25,-2.0]\n",
    "\n",
    "A=[ 65.05,2.33,0.06,0.02,0.01,0.01,0.01,0.01,0.01,0.01,0.01,0.01,0.0,0.00 ]\n",
    "B=[ 0.0,0.0,2.37,12.51,8.14,41.91]   #,41.91,2.91 ]\n",
    "\n",
    "print(sum(A))\n",
    "#print(sum(B))\n",
    "\n",
    "dfA=pd.DataFrame( {'Wgt':A} ).T\n",
    "dfA.columns=hdrA\n",
    "\n",
    "dfB=pd.DataFrame( {'Wgt':B} ).T\n",
    "dfB.columns=hdrB\n",
    "dfB"
   ]
  },
  {
   "cell_type": "markdown",
   "metadata": {},
   "source": [
    "#### Instantiate SedSAS class instance for dataframe dfA:"
   ]
  },
  {
   "cell_type": "code",
   "execution_count": 36,
   "metadata": {},
   "outputs": [
    {
     "name": "stdout",
     "output_type": "stream",
     "text": [
      "\n",
      "\n",
      "\n",
      "----------------------------------------------------------------------\n",
      "Particle-Size Composition Analysis. Processing Sample ID: 1\n",
      "----------------------------------------------------------------------\n",
      "WARNING: percent of undifferentiated coarse fraction in sample 1 is: 96.31 percent. This exceeds 5% of total by weight--values in excess of 5% can introduce significant error in the analysis. \n",
      "\n",
      "NOTE THAT ONE OR MORE QUANTILE VALUES MUST BE DETERMINED BY EXTRAPOLATION. \n",
      "\n",
      "Warning: 5% quantile < min cum wt%, extrapolating solution\n",
      "Warning: 10% quantile < min cum wt%, extrapolating solution\n",
      "Warning: 16% quantile < min cum wt%, extrapolating solution\n",
      "Warning: 25% quantile < min cum wt%, extrapolating solution\n",
      "Warning: 50% quantile < min cum wt%, extrapolating solution\n",
      "Warning: 75% quantile < min cum wt%, extrapolating solution\n",
      "Warning: 84% quantile < min cum wt%, extrapolating solution\n",
      "Warning: 90% quantile < min cum wt%, extrapolating solution\n",
      "Warning: 95% quantile < min cum wt%, extrapolating solution\n"
     ]
    },
    {
     "data": {
      "text/plain": [
       "([-1.948, -1.896, -1.834, -1.74, -1.481, -1.221, -1.128, -1.066, -1.014],\n",
       " [3.859, 3.722, 3.565, 3.341, 2.791, 2.332, 2.185, 2.093, 2.019])"
      ]
     },
     "execution_count": 36,
     "metadata": {},
     "output_type": "execute_result"
    }
   ],
   "source": [
    "ssc=SedSASClass.SedSAS('1', dfA, screensA)\n",
    "qntA=ssc.GetQuantileList()\n",
    "qntA"
   ]
  },
  {
   "cell_type": "markdown",
   "metadata": {},
   "source": [
    "### Instantiate SedSAS class instance for dataframe df = dfA + dfB:"
   ]
  },
  {
   "cell_type": "code",
   "execution_count": 30,
   "metadata": {},
   "outputs": [
    {
     "data": {
      "text/html": [
       "<div>\n",
       "<style scoped>\n",
       "    .dataframe tbody tr th:only-of-type {\n",
       "        vertical-align: middle;\n",
       "    }\n",
       "\n",
       "    .dataframe tbody tr th {\n",
       "        vertical-align: top;\n",
       "    }\n",
       "\n",
       "    .dataframe thead th {\n",
       "        text-align: right;\n",
       "    }\n",
       "</style>\n",
       "<table border=\"1\" class=\"dataframe\">\n",
       "  <thead>\n",
       "    <tr style=\"text-align: right;\">\n",
       "      <th></th>\n",
       "      <th>phi-4.5</th>\n",
       "      <th>phi-4</th>\n",
       "      <th>phi-3</th>\n",
       "      <th>phi-2.25</th>\n",
       "      <th>phi-2</th>\n",
       "      <th>phi-1</th>\n",
       "      <th>phi-0.5</th>\n",
       "      <th>phi 0</th>\n",
       "      <th>phi 0.5</th>\n",
       "      <th>phi 1</th>\n",
       "      <th>phi 1.25</th>\n",
       "      <th>phi 1.5</th>\n",
       "      <th>phi 1.75</th>\n",
       "      <th>phi 2</th>\n",
       "      <th>phi 2.5</th>\n",
       "      <th>phi 3</th>\n",
       "      <th>phi 3.5</th>\n",
       "      <th>phi 4</th>\n",
       "      <th>pan</th>\n",
       "    </tr>\n",
       "  </thead>\n",
       "  <tbody>\n",
       "    <tr>\n",
       "      <th>Wgt</th>\n",
       "      <td>0.0</td>\n",
       "      <td>0.0</td>\n",
       "      <td>2.37</td>\n",
       "      <td>12.51</td>\n",
       "      <td>8.14</td>\n",
       "      <td>41.91</td>\n",
       "      <td>2.33</td>\n",
       "      <td>0.06</td>\n",
       "      <td>0.02</td>\n",
       "      <td>0.01</td>\n",
       "      <td>0.01</td>\n",
       "      <td>0.01</td>\n",
       "      <td>0.01</td>\n",
       "      <td>0.01</td>\n",
       "      <td>0.01</td>\n",
       "      <td>0.01</td>\n",
       "      <td>0.01</td>\n",
       "      <td>0.0</td>\n",
       "      <td>0.0</td>\n",
       "    </tr>\n",
       "  </tbody>\n",
       "</table>\n",
       "</div>"
      ],
      "text/plain": [
       "     phi-4.5  phi-4  phi-3  phi-2.25  phi-2  phi-1  phi-0.5  phi 0  phi 0.5  \\\n",
       "Wgt      0.0    0.0   2.37     12.51   8.14  41.91     2.33   0.06     0.02   \n",
       "\n",
       "     phi 1  phi 1.25  phi 1.5  phi 1.75  phi 2  phi 2.5  phi 3  phi 3.5  \\\n",
       "Wgt   0.01      0.01     0.01      0.01   0.01     0.01   0.01     0.01   \n",
       "\n",
       "     phi 4  pan  \n",
       "Wgt    0.0  0.0  "
      ]
     },
     "execution_count": 30,
     "metadata": {},
     "output_type": "execute_result"
    }
   ],
   "source": [
    "df"
   ]
  },
  {
   "cell_type": "code",
   "execution_count": 37,
   "metadata": {},
   "outputs": [
    {
     "name": "stdout",
     "output_type": "stream",
     "text": [
      "\n",
      "\n",
      "\n",
      "----------------------------------------------------------------------\n",
      "Particle-Size Composition Analysis. Processing Sample ID: 2\n",
      "----------------------------------------------------------------------\n"
     ]
    },
    {
     "data": {
      "text/plain": [
       "([-2.94, -2.738, -2.495, -2.189, -1.745, -1.343, -1.198, -1.101, -1.021],\n",
       " [7.674, 6.671, 5.639, 4.561, 3.352, 2.536, 2.294, 2.146, 2.029])"
      ]
     },
     "execution_count": 37,
     "metadata": {},
     "output_type": "execute_result"
    }
   ],
   "source": [
    "screensB.extend(screensA)\n",
    "df=pd.concat( [dfB,dfA.iloc[:,1:] ], axis=1 )\n",
    "\n",
    "ssc2=SedSASClass.SedSAS('2', df, screensB)\n",
    "qntf=ssc2.GetQuantileList()\n",
    "qntf"
   ]
  },
  {
   "cell_type": "code",
   "execution_count": null,
   "metadata": {},
   "outputs": [],
   "source": []
  }
 ],
 "metadata": {
  "kernelspec": {
   "display_name": "Python 3",
   "language": "python",
   "name": "python3"
  },
  "language_info": {
   "codemirror_mode": {
    "name": "ipython",
    "version": 3
   },
   "file_extension": ".py",
   "mimetype": "text/x-python",
   "name": "python",
   "nbconvert_exporter": "python",
   "pygments_lexer": "ipython3",
   "version": "3.5.4"
  }
 },
 "nbformat": 4,
 "nbformat_minor": 2
}
