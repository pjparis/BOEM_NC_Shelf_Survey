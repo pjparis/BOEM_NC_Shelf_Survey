{
 "cells": [
  {
   "cell_type": "markdown",
   "metadata": {},
   "source": [
    "### This is JupyterLab"
   ]
  },
  {
   "cell_type": "code",
   "execution_count": 3,
   "metadata": {},
   "outputs": [],
   "source": [
    "import numpy as np\n",
    "import pandas as pd\n",
    "import matplotlib.pyplot as plt\n",
    "import seaborn as sns\n",
    "\n",
    "%load_ext rpy2.ipython"
   ]
  },
  {
   "cell_type": "code",
   "execution_count": 5,
   "metadata": {},
   "outputs": [
    {
     "data": {
      "text/plain": [
       "[1] \"/Applications/miniconda3/lib/R/library\"\n"
      ]
     },
     "metadata": {},
     "output_type": "display_data"
    }
   ],
   "source": [
    "%%R\n",
    ".libPaths()"
   ]
  },
  {
   "cell_type": "code",
   "execution_count": 12,
   "metadata": {},
   "outputs": [
    {
     "data": {
      "text/plain": [
       "     sex pitch\n",
       "1 female   233\n",
       "2 female   204\n",
       "3 female   242\n",
       "4   male   130\n",
       "5   male   112\n",
       "6   male   142\n"
      ]
     },
     "metadata": {},
     "output_type": "display_data"
    }
   ],
   "source": [
    "%%R\n",
    "pitch <- c(233,204,242,130,112,142)\n",
    "sex <- c(rep(\"female\",3), rep(\"male\",3))\n",
    "\n",
    "rdf <- data.frame(sex, pitch)\n",
    "rdf"
   ]
  },
  {
   "cell_type": "code",
   "execution_count": 15,
   "metadata": {},
   "outputs": [
    {
     "data": {
      "text/plain": [
       "\n",
       "Call:\n",
       "lm(formula = pitch ~ sex, data = rdf)\n",
       "\n",
       "Residuals:\n",
       "      1       2       3       4       5       6 \n",
       "  6.667 -22.333  15.667   2.000 -16.000  14.000 \n",
       "\n",
       "Coefficients:\n",
       "            Estimate Std. Error t value Pr(>|t|)    \n",
       "(Intercept)   226.33      10.18  22.224 2.43e-05 ***\n",
       "sexmale       -98.33      14.40  -6.827  0.00241 ** \n",
       "---\n",
       "Signif. codes:  0 ‘***’ 0.001 ‘**’ 0.01 ‘*’ 0.05 ‘.’ 0.1 ‘ ’ 1\n",
       "\n",
       "Residual standard error: 17.64 on 4 degrees of freedom\n",
       "Multiple R-squared:  0.921,\tAdjusted R-squared:  0.9012 \n",
       "F-statistic: 46.61 on 1 and 4 DF,  p-value: 0.002407\n",
       "\n"
      ]
     },
     "metadata": {},
     "output_type": "display_data"
    }
   ],
   "source": [
    "%%R\n",
    "xmd1 <- lm(pitch ~ sex, rdf)\n",
    "summary(xmd1)"
   ]
  },
  {
   "cell_type": "code",
   "execution_count": 22,
   "metadata": {},
   "outputs": [
    {
     "data": {
      "text/plain": [
       "[1] 226.3333\n",
       "[1] 128\n"
      ]
     },
     "metadata": {},
     "output_type": "display_data"
    }
   ],
   "source": [
    "%%R\n",
    "print( mean( rdf[rdf$sex == \"female\",]$pitch) )\n",
    "print( mean( rdf[rdf$sex == \"male\",]$pitch) )"
   ]
  }
 ],
 "metadata": {
  "kernelspec": {
   "display_name": "Python 3",
   "language": "python",
   "name": "python3"
  },
  "language_info": {
   "codemirror_mode": {
    "name": "ipython",
    "version": 3
   },
   "file_extension": ".py",
   "mimetype": "text/x-python",
   "name": "python",
   "nbconvert_exporter": "python",
   "pygments_lexer": "ipython3",
   "version": "3.5.4"
  }
 },
 "nbformat": 4,
 "nbformat_minor": 2
}
