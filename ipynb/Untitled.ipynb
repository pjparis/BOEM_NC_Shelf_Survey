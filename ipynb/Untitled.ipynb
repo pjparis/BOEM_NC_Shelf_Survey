{
 "cells": [
  {
   "cell_type": "code",
   "execution_count": 24,
   "metadata": {},
   "outputs": [
    {
     "name": "stdout",
     "output_type": "stream",
     "text": [
      "[0.0028 0.0053 0.0136 0.0273 0.0545 0.1364 0.2729 0.5459]\n",
      "[0.9972    0.99735   0.99728   0.99727   0.997275  0.997272  0.997271\n",
      " 0.9972705]\n",
      "0.9972735624999999\n"
     ]
    },
    {
     "data": {
      "text/plain": [
       "0.002726437500000123"
      ]
     },
     "execution_count": 24,
     "metadata": {},
     "output_type": "execute_result"
    }
   ],
   "source": [
    "import numpy as np\n",
    "import matplotlib.pyplot as plt\n",
    "\n",
    "%matplotlib inline\n",
    "\n",
    "std=np.array( [1,2,5,10,20,50,100,200] )\n",
    "scale=np.array( [0.9972,1.9947,4.9864,9.9727,19.9455,49.8636,99.7271,199.4541] )\n",
    "\n",
    "pdiff=( scale/std )\n",
    "print(std-scale)\n",
    "print( pdiff )\n",
    "print( sum(pdiff)/len(pdiff) )\n",
    "1.-( sum(pdiff)/len(pdiff) )\n",
    "\n"
   ]
  }
 ],
 "metadata": {
  "kernelspec": {
   "display_name": "Python 3",
   "language": "python",
   "name": "python3"
  },
  "language_info": {
   "codemirror_mode": {
    "name": "ipython",
    "version": 3
   },
   "file_extension": ".py",
   "mimetype": "text/x-python",
   "name": "python",
   "nbconvert_exporter": "python",
   "pygments_lexer": "ipython3",
   "version": "3.5.4"
  }
 },
 "nbformat": 4,
 "nbformat_minor": 2
}
