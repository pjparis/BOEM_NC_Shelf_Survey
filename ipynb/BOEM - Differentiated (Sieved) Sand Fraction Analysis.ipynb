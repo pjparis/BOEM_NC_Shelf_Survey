{
 "cells": [
  {
   "cell_type": "markdown",
   "metadata": {},
   "source": [
    "## Differentiated Sand Fraction Analysis\n",
    "\n",
    "Use this notebook when computing BOEM samples where the size of the sand fraction was sufficiently large to warrant mechanical (dry) sieving to partition into predetermined size classes.\n",
    "\n",
    "### Bureau of Ocean Energy and Management (BOEM) - North Carolina Offshore Sand Resources"
   ]
  },
  {
   "cell_type": "markdown",
   "metadata": {},
   "source": [
    "In this notebook we conduct an exploratory analysis of sediment samples collected at various locations on the seabed off the North Carolina coast. Sample data includes cores and [maybe?] surface grab samples."
   ]
  },
  {
   "cell_type": "markdown",
   "metadata": {},
   "source": [
    "**Sample Processing Methodology$^1$:**\n",
    "\n",
    "- 40-50 g subsample disaggregated in 0.5% sodium hexametaphosphate $(NaPO_3)_6$ soln.\n",
    "- Subsample sonicated to disperse $< 63\\mu m$ fraction\n",
    "- Subsample partitioned into coarse/fine components via 0.5% $(NaPO_3)_6$ wash through $63\\mu m$ sieve\n",
    "- Sediment $< 63\\mu m$ captured in >= 500 ml $(NaPO_3)_6$ soln.; 20 ml aliquots drawn at t=0 (20s) and t=1hr\n",
    "- Aliquots dried, weighed, and recorded\n",
    "- Sediment $>= 63\\mu m$ dried, dry sieved$^2$, weighed, and recorded.\n",
    "\n",
    "$^1$Process applies to samples containing sediment > $63\\mu m$ <br/>\n",
    "$^2$dry sieve aperture array: $-2.25\\phi, -1.0\\phi, -0.5\\phi, 0.0\\phi, 0.5\\phi, 1.0\\phi, 1.5\\phi, 2.0\\phi, 2.5\\phi, 3.0\\phi, 3.5\\phi, 4.0\\phi, pan$"
   ]
  },
  {
   "cell_type": "markdown",
   "metadata": {},
   "source": [
    "### 0.) Load Requisite Libraries, Modules, and other Vittles:"
   ]
  },
  {
   "cell_type": "code",
   "execution_count": 419,
   "metadata": {
    "collapsed": false
   },
   "outputs": [],
   "source": [
    "import sys\n",
    "import numpy as np\n",
    "import pandas as pd\n",
    "import matplotlib.pyplot as plt\n",
    "import matplotlib.patches as mpatches\n",
    "import seaborn as sns\n",
    "import sqlite3\n",
    "\n",
    "%matplotlib inline\n",
    "\n",
    "sys.path.append('/Users/paulp/GoogleDrive/projects/SedSAS/workshop/')\n",
    "import SedSASClass_r02"
   ]
  },
  {
   "cell_type": "markdown",
   "metadata": {},
   "source": [
    "### 1.) Enter identifier (id) for current core or sample site to be processed:"
   ]
  },
  {
   "cell_type": "code",
   "execution_count": 420,
   "metadata": {
    "collapsed": false
   },
   "outputs": [],
   "source": [
    "id='VC01'     # <<<<<< IMPORTANT!     'VC01', 'VC10', 'VC19', VC27', VC37'"
   ]
  },
  {
   "cell_type": "markdown",
   "metadata": {},
   "source": [
    "### 2.) Load the raw sieve results from the db and merge to single dataframe df:"
   ]
  },
  {
   "cell_type": "code",
   "execution_count": 421,
   "metadata": {
    "collapsed": false
   },
   "outputs": [],
   "source": [
    "fp='/Users/paulp/GoogleDrive/projects/BOEM/boemCoreAnaql.db'\n",
    "\n",
    "con=sqlite3.connect(fp)\n",
    "df_1 = pd.read_sql_query(\"SELECT * from \"+id+\"_DrySieveResults\", con)\n",
    "df_2 = pd.read_sql_query(\"SELECT * from \"+id+\"_PipetteResults\", con)\n",
    "con.close()\n",
    "\n",
    "# merge the two dataframes, adding the columns of df_1 to df_2 to create our base working dataframe df:\n",
    "df=df_1.merge(df_2, left_on='Position', right_on='Position', how='inner')\n",
    "df=df.replace('',np.nan)                         # fill blank fields with NaN\n",
    "#df.dtypes"
   ]
  },
  {
   "cell_type": "markdown",
   "metadata": {},
   "source": [
    "### 3.) Subtract the Weight of the Weighing Pans from the  Dried Sampling Weights:\n",
    "\n",
    "This yields the weight of the dried uncorrected 20 ml aliquot pipetted at time = 20s, and...<br/>\n",
    "...the weight of the dried uncorrected 20 ml aliquot pipetted at time = 1 hour"
   ]
  },
  {
   "cell_type": "code",
   "execution_count": 422,
   "metadata": {
    "collapsed": true
   },
   "outputs": [],
   "source": [
    "df['SampleWt_1stDraw'] = df['SampleWt_1stDraw']-df['PanWt_1stDraw']\n",
    "df['SampleWt_2ndDraw'] = df['SampleWt_2ndDraw']-df['PanWt_2ndDraw']\n",
    "#print(df['SampleWt_1stDraw'],df['PanWt_1stDraw'])"
   ]
  },
  {
   "cell_type": "markdown",
   "metadata": {},
   "source": [
    "### 4.) Compute Sodium Hexametaphosphate wash residue weight correction for the dried pipette samples\n",
    "\n",
    "\n",
    "Residue left behind as an evaporite in the dried pipette samples must be accounted for in computing the weight and weight percentages for the drawn silt / clay aliquots. \n",
    "\n",
    "\n",
    "NaPO3 mixed in bulk to concentration: 5 gm dry powder to 1 L DDI water used for sediment wash\n",
    "\n",
    "Note that this correction is not applied to the sand and coarser fraction weights\n",
    "\n",
    "Note 2 that we are for the moment compensating for measurement error where the total weight of the sample+dispersant-pan weight is less than the weight of dispersant (which should be present) alone. In these instances, the sample draw weight is set to equal 0."
   ]
  },
  {
   "cell_type": "code",
   "execution_count": 423,
   "metadata": {
    "collapsed": true
   },
   "outputs": [],
   "source": [
    "NaPO3=5           # conc (NaPO3)6 in 1 L H2O (in grams)\n",
    "aliquot=20        # pipette sample volume (in ml)\n",
    "\n",
    "# (NaPO3*df['Cyl_Vol'] / 1000 )   -->  weight in grams of NaPO3 in cylinder (proportion based on conc and cyl volume)\n",
    "#                                 -->  NaPO3/1000 = mixed reference conc of dispersant\n",
    "# ( aliquot /df['Cyl_Vol'] )      -->  ratio of sample aliquot to cyl vol. Adj. to determine total sediment wt in \n",
    "#                                      cylinder. Aliquot represents volume subset of assumed homogeneous suspension\n",
    "#\n",
    "# Note that with a 5g/L conc of NaPO3 we end up with a weight of 0.1 gms NaPO3 / 20 ml aliquot\n",
    "\n",
    "df['SampleWt_1stDraw']=df['SampleWt_1stDraw'] - (NaPO3*df['Cyl_Vol'] / 1000 )*( aliquot /df['Cyl_Vol'] )\n",
    "df['SampleWt_2ndDraw']=df['SampleWt_2ndDraw'] - (NaPO3*df['Cyl_Vol'] / 1000 )*( aliquot /df['Cyl_Vol'] )\n",
    "\n",
    "### though both the first and second draw sample weights should always be > or = the\n",
    "### weight of the dispersant in soln in the aliquot, it sometimes happens that \n",
    "### this is not the case. For now, our only recourse is to detect these instances and\n",
    "### compensate by setting the draw weight(s) to 0 and proceeding as if there is no\n",
    "### clay and or silt in the sample.\n",
    "df['SampleWt_1stDraw'] = np.where(df['SampleWt_1stDraw'] < 0.0, 0, df['SampleWt_1stDraw'] )\n",
    "df['SampleWt_2ndDraw'] = np.where(df['SampleWt_2ndDraw'] < 0.0, 0, df['SampleWt_2ndDraw'] )              \n",
    "                                  "
   ]
  },
  {
   "cell_type": "markdown",
   "metadata": {},
   "source": [
    "### 5.) Apply Volumetric Correction for Pipette Sample\n",
    "\n",
    "These computations yield the final adjusted weights of all the fines (20s immediate draw), and (after 1 hour) all the fines >= 6$\\phi$, respectively, in the graduated cylinder"
   ]
  },
  {
   "cell_type": "code",
   "execution_count": 424,
   "metadata": {
    "collapsed": true
   },
   "outputs": [],
   "source": [
    "df['SampleWt_1stDraw']=df['SampleWt_1stDraw'] * ( df['Cyl_Vol']/aliquot )\n",
    "df['SampleWt_2ndDraw']=df['SampleWt_2ndDraw'] * ( df['Cyl_Vol']/aliquot )\n",
    "#print(df['SampleWt_1stDraw'], df['SampleWt_2ndDraw'])"
   ]
  },
  {
   "cell_type": "markdown",
   "metadata": {},
   "source": [
    "### 6.) Compute the particle-size fraction weights:\n",
    "\n",
    "From the raw weights provided in the pipette results compute the raw bulk weights for:\n",
    "- Gravels (<= -2$\\phi$)   GravelWt = df['phi_n225']\n",
    "- Sands(-1$\\phi$ >= s <= 4$\\phi$) = df['phi_n10'] to df['phi_4']\n",
    "- Silts (> 4$\\phi$ - ~<= 6$\\phi$):   = TotalFinesWt - ClayWt\n",
    "- Clays (~<6$\\phi$):   = Corrected SampleWt_2ndDraw\n",
    "- Total Fines (Silts + Clays):  = Corrected SampleWt_1stDraw + dryfines\n",
    "\n",
    "\n",
    "Note that we are combining the fines collected during the dry sieving process with those sampled from the pipette/settling procedure to compute the total fines for the sample. If the sand fraction was not dry sieved then the fine component contributed by the sand (dryfines) is set equal to 0"
   ]
  },
  {
   "cell_type": "code",
   "execution_count": 425,
   "metadata": {
    "collapsed": false
   },
   "outputs": [],
   "source": [
    "### the gravel fraction:\n",
    "df['GravelWt']=df['phi_n225']+df['phi_n1'] \n",
    "\n",
    "### sand weight is based on either: 1.) the total weight of material captured in the sieves smaller (aperture) \n",
    "### than -1 phi if the sample was dry sieved, or, 2.) if not dry sieved the resultant of the dry sand wt captured\n",
    "### in the 63 um sieve during the wet sieve process less the weight of the containing dish, and any weight contained\n",
    "### in the gravel and pan fines fractions The latter is unlikely, but just in case...\n",
    "drySieved_wt=df.iloc[:,5:15].sum(axis=1)   # weight of sieved sand fraction (-0.5 phi to 4 phi, inclusive)\n",
    "wetSieved_wt=df['Dry_wt']-df['Pan_wt']-df['GravelWt'] - df['dryfines']\n",
    "df['SandWt'] = np.where( drySieved_wt != 0, drySieved_wt, wetSieved_wt)\n",
    "\n",
    "### the fine fraction (silt and clay):\n",
    "df['TotalFinesWt']=df['SampleWt_1stDraw']+df['dryfines'].astype(float)\n",
    "df['ClayWt']=df['SampleWt_2ndDraw']\n",
    "df['SiltWt']=df['TotalFinesWt']-df['ClayWt']\n",
    "\n",
    "### the total weight of the sample being analyzed:\n",
    "df['TotalWt']=df['TotalFinesWt']+df['SandWt']+df['GravelWt']\n",
    "\n",
    "### As a check on the actual difference between the total sieved sand weight and the dried bulk sand weight\n",
    "### compute the sieving losses as the difference between the sieved sum and bulk sand weights:\n",
    "#df['Sieving_Losses'] = (df['Dry_wt'] - df['Pan_wt']) - df['TotalWt']"
   ]
  },
  {
   "cell_type": "markdown",
   "metadata": {},
   "source": [
    "### 7.) Augment df to include computed fields for total and cumulative percent coarse, sand, and fine sediment particles \n",
    "\n",
    "results to be used in building the plots that follow...\n"
   ]
  },
  {
   "cell_type": "code",
   "execution_count": 426,
   "metadata": {
    "collapsed": false
   },
   "outputs": [],
   "source": [
    "####### IMPORTANT\n",
    "df['GravelWtPct']=(df['GravelWt'] / df['TotalWt'])*100\n",
    "df['SandWtPct']=(df['SandWt'] / df['TotalWt'])*100\n",
    "df['SiltWtPct']=(df['SiltWt'] / df['TotalWt'])*100\n",
    "df['ClayWtPct']=(df['ClayWt'] / df['TotalWt'])*100\n",
    "\n",
    "### Add computed fields for cumulative weight percent coarse+sand and coarse+sand+fines (the latter which is \n",
    "### 100% in all cases). We use the latter as a boundary for the area fill on the cumulative plot (subplot #4) \n",
    "### to come:\n",
    "df['BaselineWtPct']=0\n",
    "df['GSCumWtPct']=df['GravelWtPct']+df['SandWtPct']     # accumulated gravels + sands\n",
    "df['GSiCumWtPct']=df['GravelWtPct']+df['SandWtPct']+df['SiltWtPct']   # accumulated gravels+sands+silts\n",
    "df['SSCCumWtPct']=df['GSiCumWtPct']+df['ClayWtPct']   # accumulated gravels+sands+silts+clays  (should be 100%)\n",
    "\n",
    "\n",
    "####### \n",
    "\n",
    "#df['TotalWt']=df.iloc[0:,3:15].sum(axis=1) + df['TotalFinesWt']\n",
    "#df['CoarseWt']=df.iloc[0:,3:5].sum(axis=1)\n",
    "# df['SandWt']=df.iloc[0:,5:15].sum(axis=1)\n",
    "# df['FinesWt']=df.iloc[0:,15:16]   replaced by TotalFinesWt\n",
    "\n",
    "#df['CoarseWtPct']=(df['CoarseWt'] / df['TotalWt'])*100\n",
    "#df['SandWtPct']=(df['SandWt'] / df['TotalWt'])*100\n",
    "#df['FinesWtPct']=(df['TotalFinesWt'] / df['TotalWt'])*100\n",
    "\n",
    "### Add computed fields for cumulative weight percent coarse+sand and coarse+sand+fines (the latter which is \n",
    "### 100% in all cases). We use the latter as a boundary for the area fill on the cumulative plot to come:\n",
    "#df['BaselineWtPct']=0\n",
    "#df['CSCumWtPct']=df['CoarseWtPct']+df['SandWtPct']\n",
    "#df['CSFCumWtPct']=df['CSCumWtPct']+df['FinesWtPct']"
   ]
  },
  {
   "cell_type": "markdown",
   "metadata": {},
   "source": [
    "### 8.) Compute Statistics (Folk and Ward Logarithmic) and populate to the new dataframe dfstat:\n",
    "\n",
    "This script calls SedSAS to do the statistics computations for those samples where dry sieve separations where performed."
   ]
  },
  {
   "cell_type": "code",
   "execution_count": 427,
   "metadata": {
    "collapsed": true
   },
   "outputs": [
    {
     "name": "stdout",
     "output_type": "stream",
     "text": [
      "Processing sample:  0\n",
      "Processing sample:  1\n",
      "WARNING: percent of partially-determined coarse fraction in sample\n",
      "1 is: 26.04 percent.\n",
      "This exceeds 5% of total by weight--values in excess of 5% can\n",
      "introduce significant error in the analysis.\n",
      "\n",
      "Warning: 5% quantile < min cum wt%, extrapolating solution\n",
      "Warning: 10% quantile < min cum wt%, extrapolating solution\n",
      "Warning: 16% quantile < min cum wt%, extrapolating solution\n",
      "Warning: 25% quantile < min cum wt%, extrapolating solution\n",
      "Processing sample:  2\n",
      "WARNING: percent of partially-determined coarse fraction in sample\n",
      "2 is: 35.92 percent.\n",
      "This exceeds 5% of total by weight--values in excess of 5% can\n",
      "introduce significant error in the analysis.\n",
      "\n",
      "Warning: 5% quantile < min cum wt%, extrapolating solution\n",
      "Warning: 10% quantile < min cum wt%, extrapolating solution\n",
      "Warning: 16% quantile < min cum wt%, extrapolating solution\n",
      "Warning: 25% quantile < min cum wt%, extrapolating solution\n",
      "Processing sample:  3\n",
      "Processing sample:  4\n",
      "WARNING: percent of partially-determined coarse fraction in sample\n",
      "4 is: 8.52 percent.\n",
      "This exceeds 5% of total by weight--values in excess of 5% can\n",
      "introduce significant error in the analysis.\n",
      "\n",
      "Warning: 5% quantile < min cum wt%, extrapolating solution\n",
      "Processing sample:  5\n",
      "Processing sample:  6\n",
      "Processing sample:  7\n",
      "Processing sample:  8\n",
      "Processing sample:  9\n",
      "Processing sample:  10\n",
      "WARNING: percent of partially-determined coarse fraction in sample\n",
      "10 is: 5.9 percent.\n",
      "This exceeds 5% of total by weight--values in excess of 5% can\n",
      "introduce significant error in the analysis.\n",
      "\n",
      "Warning: 5% quantile < min cum wt%, extrapolating solution\n",
      "Processing sample:  11\n",
      "WARNING: percent of partially-determined coarse fraction in sample\n",
      "11 is: 18.36 percent.\n",
      "This exceeds 5% of total by weight--values in excess of 5% can\n",
      "introduce significant error in the analysis.\n",
      "\n",
      "Warning: 5% quantile < min cum wt%, extrapolating solution\n",
      "Warning: 10% quantile < min cum wt%, extrapolating solution\n",
      "Warning: 16% quantile < min cum wt%, extrapolating solution\n"
     ]
    }
   ],
   "source": [
    "# create a new empty dataframe to hold the generated grain-size statistics:\n",
    "dfstat=pd.DataFrame(index=np.arange(0, len(df)),columns=['Position','Q1','Median','Q3','Mean','SD','Skew','Kurt'])\n",
    "\n",
    "scrns=[-2.25,-1.0,-0.5,0.0,0.5,1.0,1.5,2.0,2.5,3.0,3.5,4.0,5.0]\n",
    "samples=[x for x in range(len(df))]   \n",
    "\n",
    "### process samples:\n",
    "for row in df.iterrows():\n",
    "    index, data = row\n",
    "    weights=list(data)[3:16]\n",
    "    tdf=pd.DataFrame({'Aperture':scrns, 'Weight':weights})\n",
    "    ssc=SedSASClass_r02.SedSAS( index, tdf ) \n",
    "    try:                               # should SedSAS encounter an empty dataframe \n",
    "        Q=ssc.ReturnQuantileList()     # 4 is median   3 is 25%    5 is 75%\n",
    "        gs=ssc.ComputeFWLogarithmicGraphicStats()\n",
    "        dfstat.iloc[index:index+1,0:1]=df.iloc[index:index+1,0:1]   # position\n",
    "        dfstat.iloc[index:index+1,1:2]=Q[0][3]              # 25th quantile in phi\n",
    "        dfstat.iloc[index:index+1,2:3]=Q[0][4]              # 50th quantile (median) in phi\n",
    "        dfstat.iloc[index:index+1,3:4]=Q[0][5]              # 75th quantile in phi\n",
    "\n",
    "        dfstat.iloc[index:index+1,4:5]=gs[0]    # mean in phi\n",
    "        dfstat.iloc[index:index+1,5:6]=gs[1]    # standard deviation in phi\n",
    "        dfstat.iloc[index:index+1,6:7]=gs[2]    # skewness\n",
    "        dfstat.iloc[index:index+1,7:8]=gs[3]    # kurtosis\n",
    "    except:\n",
    "        pass\n",
    "#dfstat"
   ]
  },
  {
   "cell_type": "code",
   "execution_count": 428,
   "metadata": {},
   "outputs": [
    {
     "data": {
      "text/html": [
       "<div>\n",
       "<style scoped>\n",
       "    .dataframe tbody tr th:only-of-type {\n",
       "        vertical-align: middle;\n",
       "    }\n",
       "\n",
       "    .dataframe tbody tr th {\n",
       "        vertical-align: top;\n",
       "    }\n",
       "\n",
       "    .dataframe thead th {\n",
       "        text-align: right;\n",
       "    }\n",
       "</style>\n",
       "<table border=\"1\" class=\"dataframe\">\n",
       "  <thead>\n",
       "    <tr style=\"text-align: right;\">\n",
       "      <th></th>\n",
       "      <th>Position</th>\n",
       "      <th>Q1</th>\n",
       "      <th>Median</th>\n",
       "      <th>Q3</th>\n",
       "      <th>Mean</th>\n",
       "      <th>SD</th>\n",
       "      <th>Skew</th>\n",
       "      <th>Kurt</th>\n",
       "    </tr>\n",
       "  </thead>\n",
       "  <tbody>\n",
       "    <tr>\n",
       "      <th>0</th>\n",
       "      <td>0</td>\n",
       "      <td>0.442</td>\n",
       "      <td>1.535</td>\n",
       "      <td>2.586</td>\n",
       "      <td>1.463</td>\n",
       "      <td>1.392</td>\n",
       "      <td>-0.093</td>\n",
       "      <td>0.832</td>\n",
       "    </tr>\n",
       "    <tr>\n",
       "      <th>1</th>\n",
       "      <td>1</td>\n",
       "      <td>-2.29</td>\n",
       "      <td>0.843</td>\n",
       "      <td>2.56</td>\n",
       "      <td>0.367</td>\n",
       "      <td>2.356</td>\n",
       "      <td>-0.236</td>\n",
       "      <td>0.543</td>\n",
       "    </tr>\n",
       "    <tr>\n",
       "      <th>2</th>\n",
       "      <td>2</td>\n",
       "      <td>-2.554</td>\n",
       "      <td>-0.302</td>\n",
       "      <td>2.379</td>\n",
       "      <td>-0.119</td>\n",
       "      <td>2.366</td>\n",
       "      <td>0.114</td>\n",
       "      <td>0.536</td>\n",
       "    </tr>\n",
       "    <tr>\n",
       "      <th>3</th>\n",
       "      <td>3</td>\n",
       "      <td>0.256</td>\n",
       "      <td>1.478</td>\n",
       "      <td>2.459</td>\n",
       "      <td>1.363</td>\n",
       "      <td>1.444</td>\n",
       "      <td>-0.086</td>\n",
       "      <td>0.844</td>\n",
       "    </tr>\n",
       "    <tr>\n",
       "      <th>4</th>\n",
       "      <td>4</td>\n",
       "      <td>-0.516</td>\n",
       "      <td>0.619</td>\n",
       "      <td>2.008</td>\n",
       "      <td>0.63</td>\n",
       "      <td>1.727</td>\n",
       "      <td>-0.084</td>\n",
       "      <td>0.906</td>\n",
       "    </tr>\n",
       "    <tr>\n",
       "      <th>5</th>\n",
       "      <td>5</td>\n",
       "      <td>-0.468</td>\n",
       "      <td>0.323</td>\n",
       "      <td>1.703</td>\n",
       "      <td>0.568</td>\n",
       "      <td>1.516</td>\n",
       "      <td>0.157</td>\n",
       "      <td>0.905</td>\n",
       "    </tr>\n",
       "    <tr>\n",
       "      <th>6</th>\n",
       "      <td>6</td>\n",
       "      <td>-0.737</td>\n",
       "      <td>0.1</td>\n",
       "      <td>1.368</td>\n",
       "      <td>0.355</td>\n",
       "      <td>1.53</td>\n",
       "      <td>0.183</td>\n",
       "      <td>0.94</td>\n",
       "    </tr>\n",
       "    <tr>\n",
       "      <th>7</th>\n",
       "      <td>7</td>\n",
       "      <td>-0.585</td>\n",
       "      <td>0.911</td>\n",
       "      <td>2.061</td>\n",
       "      <td>0.714</td>\n",
       "      <td>1.675</td>\n",
       "      <td>-0.187</td>\n",
       "      <td>0.797</td>\n",
       "    </tr>\n",
       "    <tr>\n",
       "      <th>8</th>\n",
       "      <td>8</td>\n",
       "      <td>0.393</td>\n",
       "      <td>1.824</td>\n",
       "      <td>2.605</td>\n",
       "      <td>1.435</td>\n",
       "      <td>1.566</td>\n",
       "      <td>-0.39</td>\n",
       "      <td>0.94</td>\n",
       "    </tr>\n",
       "    <tr>\n",
       "      <th>9</th>\n",
       "      <td>9</td>\n",
       "      <td>-0.264</td>\n",
       "      <td>1.598</td>\n",
       "      <td>2.585</td>\n",
       "      <td>1.208</td>\n",
       "      <td>1.684</td>\n",
       "      <td>-0.326</td>\n",
       "      <td>0.739</td>\n",
       "    </tr>\n",
       "    <tr>\n",
       "      <th>10</th>\n",
       "      <td>10</td>\n",
       "      <td>-0.936</td>\n",
       "      <td>0.139</td>\n",
       "      <td>1.342</td>\n",
       "      <td>0.17</td>\n",
       "      <td>1.657</td>\n",
       "      <td>0.03</td>\n",
       "      <td>0.946</td>\n",
       "    </tr>\n",
       "    <tr>\n",
       "      <th>11</th>\n",
       "      <td>11</td>\n",
       "      <td>-1.864</td>\n",
       "      <td>-0.518</td>\n",
       "      <td>1.155</td>\n",
       "      <td>-0.333</td>\n",
       "      <td>1.96</td>\n",
       "      <td>0.147</td>\n",
       "      <td>0.798</td>\n",
       "    </tr>\n",
       "  </tbody>\n",
       "</table>\n",
       "</div>"
      ],
      "text/plain": [
       "   Position     Q1 Median     Q3   Mean     SD   Skew   Kurt\n",
       "0         0  0.442  1.535  2.586  1.463  1.392 -0.093  0.832\n",
       "1         1  -2.29  0.843   2.56  0.367  2.356 -0.236  0.543\n",
       "2         2 -2.554 -0.302  2.379 -0.119  2.366  0.114  0.536\n",
       "3         3  0.256  1.478  2.459  1.363  1.444 -0.086  0.844\n",
       "4         4 -0.516  0.619  2.008   0.63  1.727 -0.084  0.906\n",
       "5         5 -0.468  0.323  1.703  0.568  1.516  0.157  0.905\n",
       "6         6 -0.737    0.1  1.368  0.355   1.53  0.183   0.94\n",
       "7         7 -0.585  0.911  2.061  0.714  1.675 -0.187  0.797\n",
       "8         8  0.393  1.824  2.605  1.435  1.566  -0.39   0.94\n",
       "9         9 -0.264  1.598  2.585  1.208  1.684 -0.326  0.739\n",
       "10       10 -0.936  0.139  1.342   0.17  1.657   0.03  0.946\n",
       "11       11 -1.864 -0.518  1.155 -0.333   1.96  0.147  0.798"
      ]
     },
     "execution_count": 428,
     "metadata": {},
     "output_type": "execute_result"
    }
   ],
   "source": [
    "dfstat"
   ]
  },
  {
   "cell_type": "code",
   "execution_count": 429,
   "metadata": {
    "collapsed": true
   },
   "outputs": [],
   "source": [
    "### Rework and augment a subset of dataframe df to create a plotting data dataframe: pldf\n",
    "\n",
    "pldf=pd.DataFrame(columns=['Wt','WtPct','CumWtPct','Phi','Position'])   \n",
    "\n",
    "for n, sample in enumerate(samples):\n",
    "    tmpdf=df.iloc[n:n+1,3:16].copy().T   # slice out the dry-sieve bin weights from df\n",
    "    tmpdf.columns=['Wt']\n",
    "    tmpdf['WtPct']=tmpdf['Wt']/( tmpdf['Wt'].sum() )*100   # weight %\n",
    "    tmpdf['CumWtPct']=tmpdf['WtPct'].cumsum()              # cumulative weight %\n",
    "    tmpdf['Phi']=scrns\n",
    "    tmpdf['Position']=n\n",
    "    \n",
    "    pldf=pd.concat( [pldf, tmpdf], ignore_index=True)\n",
    "#pldf"
   ]
  },
  {
   "cell_type": "markdown",
   "metadata": {},
   "source": [
    "### 10.) Generate Grain-Size Anal Log Plot (Quad) for Core Samples:\n",
    "Use for samples where sand fraction was sufficient to warrant dry sieving"
   ]
  },
  {
   "cell_type": "code",
   "execution_count": 430,
   "metadata": {
    "collapsed": false,
    "scrolled": false
   },
   "outputs": [
    {
     "data": {
      "image/png": "[encoded data removed]",
      "text/plain": [
       "<matplotlib.figure.Figure at 0x1178dae10>"
      ]
     },
     "metadata": {},
     "output_type": "display_data"
    }
   ],
   "source": [
    "import matplotlib as mpl\n",
    "from mpl_toolkits.axes_grid1 import make_axes_locatable\n",
    "\n",
    "sns.set_style('ticks')\n",
    "sns.set_context('talk')\n",
    "\n",
    "xtics=[-2.25,-1.0,-0.5,0.0,0.5,1.0,1.5,2.0,2.5,3.0,3.5,4.0,5.0]\n",
    "xticlbls=['-2.25','-1.0','-0.5','0.0','0.5','1.0','1.5','2.0','2.5','3.0','3.5','4.0','>4']\n",
    "ytics=df['Position'].tolist()\n",
    "yticlbls=['0','1','2','3','4','5','6','7','8','9','10','11','12']\n",
    "\n",
    "figh, (axh0, axh1, axh2, axh3) = plt.subplots(nrows=1, ncols=4, figsize=(14,7))   #sharey='row'\n",
    "\n",
    "### SUBLOT #1: (MAYBE)  2d INTERPOLATED DENSITY FUNCTION:\n",
    "#im=axh0.imshow(pldf_.values, interpolation='none', origin='lower',extent=[-2.25,5.0,0,12.0], aspect='auto', \n",
    "#               cmap='Spectral_r')   ### color maps: Spectral_r, Blues, Reds\n",
    "\n",
    "\n",
    "### SUBLOT #1: (MAYBE)  2d HEATMAP:\n",
    "pldf_ = pldf.pivot(\"Position\", \"Phi\", \"WtPct\")\n",
    "pldfr=pldf_.round(0)    # round values in pldf_ to integers (used for overprinting of values on plot)\n",
    "\n",
    "sns.heatmap(pldfr, square=False, annot=True, annot_kws={\"size\": 9}, xticklabels=xticlbls,\n",
    "            cmap='Spectral_r', cbar=False, ax=axh0)\n",
    "#axh0.plot(dfstat['Mean'], dfstat['Position'], '--o', c='black', label='Mean')\n",
    "sns.despine(offset=5, top=True, right=True, ax=axh0)\n",
    "\n",
    "#axh0.set_xticks(xtics, xticlbls)\n",
    "#axh0.set_yticks(ytics, yticlbls)      \n",
    "#axh0.set_yticklabels()\n",
    "#for xtic in axh.get_xticklabels():   # to rotate the tick labels along the x-axis 90 deg.\n",
    "#        xtic.set_rotation(90)\n",
    "\n",
    "for xtic in axh0.xaxis.get_majorticklabels():\n",
    "    xtic.set_rotation(90)\n",
    "    #tick.set_horizontalalignment(\"left\")\n",
    "\n",
    "for ytic in axh0.yaxis.get_majorticklabels():\n",
    "    ytic.set_verticalalignment('center')        \n",
    "\n",
    "### draw color bar next to frequency plot: USE THIS SEGMENT ONLY IF DRAWING THE KDE FUNCTION PLOT ###\n",
    "### info: https://matplotlib.org/mpl_toolkits/axes_grid/users/overview.html#axesdivider\n",
    "# Create divider for existing axes instance\n",
    "#divider0 = make_axes_locatable(axh0)                        # uncomment for KDE plot\n",
    "# Append axes to the right of ax3, with 20% width of ax3\n",
    "#cax0 = divider0.append_axes(\"right\", size=\"12%\", pad=0.1)   # uncomment for KDE plot\n",
    "#figh.colorbar(im, cax=cax0)                                 # uncomment for KDE plot\n",
    "\n",
    "#axh0.legend(loc=(0.47,0.95))\n",
    "\n",
    "axh0.grid(visible=False)\n",
    "axh0.set_xlabel('Phi')\n",
    "axh0.set_ylabel('Sample Position Down Core (Ft)')\n",
    "axh0.set_title('Sample Histograms')     # KDEs\n",
    " \n",
    "\n",
    "### SUBLOT #2: STATISTICAL PROPERTIES:\n",
    "#sns.boxplot(data=pldf, x='WtPct', y='Position', orient=\"h\",  palette=\"Set2\", notch=False, ax=axh1)\n",
    "#axh1.bxp(dlist, vert=False, showfliers=False)\n",
    "#axh1.plot(dfstat['Median'], dfstat['Position'], '--o', label='Median')\n",
    "axh1.plot(dfstat['Mean'], dfstat['Position'], '--o', c='black', label='Mean')\n",
    "axh1.plot(dfstat['Median'], dfstat['Position'], '--^', c='blue', label='Median')\n",
    "#sd_lo=dfstat['Mean']-dfstat['SD']\n",
    "#sd_hi=dfstat['Mean']+dfstat['SD']\n",
    "#axh1.plot(sd_lo, dfstat['Position'], '--o', c='green', label='Std. Dev.')\n",
    "#axh1.plot(sd_hi, dfstat['Position'], '--o', c='green', label='')\n",
    "axh1.plot(dfstat['SD'], dfstat['Position'], '--s', c='red', label='Sorting')\n",
    "sns.despine(offset=5, top=True, right=True, ax=axh1)\n",
    "axh1.invert_yaxis()\n",
    "axh1.set_xticks(xtics, xticlbls)\n",
    "axh1.set_yticks(ytics)\n",
    "#for xtic in axh1.xaxis.get_majorticklabels():\n",
    "#    xtic.set_rotation(90)\n",
    "axh1.set_xlabel('Phi')\n",
    "leg1=axh1.legend(bbox_to_anchor=(-0.4,-0.32),loc='lower left', frameon=True, ncol=3) \n",
    "frm1=leg1.get_frame()\n",
    "frm1.set_edgecolor('black')\n",
    "\n",
    "axh1.set_title('Moments', loc='center')\n",
    "\n",
    "\n",
    "# PERCENT COARSE FRACTION per sample site:\n",
    "#sns.barplot(x='CoarseWtPct',  y='Position', data=df, orient='h', ax=axh[2])\n",
    "#axh[2].plot(df['CoarseWtPct'], df['Position'], '--o', c='red')\n",
    "#sns.despine(offset=5, top=True, right=True, ax=axh[2])\n",
    "#axh[2].set_xticks([0,5,10,15,20,25])\n",
    "#axh[2].set_ylabel('')\n",
    "\n",
    "\n",
    "#  SUBLOT #3: PERCENT SAND FRACTION per sample site:\n",
    "#sns.barplot(x='SandWtPct',  y='Position', data=df, orient='h', ax=axh2)\n",
    "axh2.plot(df['SandWtPct'], df['Position'], '--o', c='black' )\n",
    "sns.despine(offset=10, top=True, right=True, ax=axh2)\n",
    "axh2.invert_yaxis()\n",
    "axh2.set_xticks([0,20,40,60,60,80,100])\n",
    "axh2.set_yticks(ytics)\n",
    "axh2.set_xlabel('Weight %')\n",
    "axh2.set_ylabel('')\n",
    "axh2.set_title('Sand')\n",
    "\n",
    "\n",
    "#  SUBLOT #4: PERCENT CUMULATIVE SIZE FRACTIONS per sample site:\n",
    "#sns.barplot(x='FinesWtPct',  y='Position', data=df, orient='h', ax=axh3)\n",
    "axh3.plot(df['GravelWtPct'], df['Position'], 'r-', label='Gravel', linewidth=2 )\n",
    "axh3.plot(df['GSCumWtPct'], df['Position'], 'y-', label='Sand', linewidth=2 )\n",
    "axh3.plot(df['GSiCumWtPct'], df['Position'], '-', label='Silt', color='lightgreen', linewidth=2 )\n",
    "axh3.plot(df['SSCCumWtPct'], df['Position'], 'g-', label='Clay', linewidth=2 )\n",
    "\n",
    "axh3.fill_betweenx( df['Position'],df['BaselineWtPct'], df['GravelWtPct'],  facecolor='Red')\n",
    "axh3.fill_betweenx( df['Position'],df['GravelWtPct'], df['GSCumWtPct'],  facecolor='yellow')\n",
    "axh3.fill_betweenx( df['Position'],df['GSCumWtPct'], df['GSiCumWtPct'],  facecolor='lightgreen')\n",
    "axh3.fill_betweenx( df['Position'],df['GSiCumWtPct'], df['SSCCumWtPct'],  facecolor='green')\n",
    "labels=['Gravel','Sand','Silt','Clay']\n",
    "colors=['Red','Yellow','lightgreen','Blue']\n",
    "\n",
    "sns.despine(offset=10, top=True, right=True, ax=axh3)\n",
    "axh3.invert_yaxis()\n",
    "axh3.set_xticks([0,20,40,60,80,100])\n",
    "axh3.set_yticks([x for x in range(len(df ) ) ])\n",
    "axh3.set_xlabel('Cumulative Weight % in Sample')\n",
    "axh3.set_ylabel('Position Down Core (ft)')\n",
    "\n",
    "# to generate the legend...\n",
    "gravel_patch = mpatches.Patch(color='red', label='Gravel')\n",
    "sand_patch = mpatches.Patch(color='Yellow', label='Sand')\n",
    "silt_patch = mpatches.Patch(color='lightgreen', label='Silt')\n",
    "clay_patch = mpatches.Patch(color='green', label='Clay')\n",
    "\n",
    "leg3=axh3.legend(bbox_to_anchor=(-0.1,-0.35),loc='lower left', frameon=True, ncol=2, \\\n",
    "                handles=[gravel_patch, sand_patch, silt_patch, clay_patch])\n",
    "frm3=leg3.get_frame()\n",
    "frm3.set_edgecolor('black')\n",
    "\n",
    "axh3.set_title('Cumulative Gravel/Sand/Silt/Clay')\n",
    "\n",
    "\n",
    "plt.tight_layout()\n",
    "figh.subplots_adjust(top=0.90, bottom=0.25)\n",
    "figh.suptitle('Core: '+id, fontsize=20)\n",
    "\n",
    "plt.savefig('/Users/paulp/GoogleDrive/projects/BOEM/graphics/wetDrySievedCores/sed_log_'+id+'_histoCR.pdf')"
   ]
  },
  {
   "cell_type": "markdown",
   "metadata": {},
   "source": [
    "# The End."
   ]
  },
  {
   "cell_type": "markdown",
   "metadata": {},
   "source": [
    "## Spare Parts and other 'stuff' follows:"
   ]
  },
  {
   "cell_type": "code",
   "execution_count": 432,
   "metadata": {},
   "outputs": [
    {
     "data": {
      "text/plain": [
       "<matplotlib.legend.Legend at 0x1181c24a8>"
      ]
     },
     "execution_count": 432,
     "metadata": {},
     "output_type": "execute_result"
    },
    {
     "data": {
      "image/png": "[encoded data removed]",
      "text/plain": [
       "<matplotlib.figure.Figure at 0x118968320>"
      ]
     },
     "metadata": {},
     "output_type": "display_data"
    }
   ],
   "source": [
    "### Creating Custom Legend Patches and Labels in MatplotLib:\n",
    "\n",
    "import matplotlib.patches as mpatches    # required along with pyplot\n",
    "\n",
    "gravel_patch = mpatches.Patch(color='red', label='Gravel')\n",
    "sand_patch = mpatches.Patch(color='Yellow', label='Sand')\n",
    "silt_patch = mpatches.Patch(color='lightgreen', label='Silt')\n",
    "clay_patch = mpatches.Patch(color='green', label='Clay')\n",
    "plt.legend(handles=[gravel_patch, sand_patch, silt_patch, clay_patch], ncol=2)"
   ]
  },
  {
   "cell_type": "markdown",
   "metadata": {},
   "source": [
    "**Meeting Notes:**\n",
    "- Check Folk on dealing with fines in moment calcs\n",
    "- plots with histo pixesl w/rounded values and color bar (RGB [Spectral_r], white-red [Reds], white-blue [Blues])\n",
    "- plots with interpolated density w/mean superimposed  w/color bar (RGB, white-red, white-blue)\n",
    "\n",
    "- quad (distribution, sample statistics (mean, median, sd) sand wt %, cumulative gravel, gravel+sand, gravel+sand+silt/clay  (area plot for latter)\n",
    "\n",
    "- add wet and dry sieved fines to process\n",
    "\n",
    "- generate random fake data set showing equal distribution (normal) to test...\n",
    "\n",
    "- will generate 5 plot graphics\n",
    "\n",
    "- revive sample site histo bars (additonal graphic)\n",
    "\n",
    "- slide showing methodology\n",
    "- VC1, 10, 13(?), 27\n",
    "- Next time: 2 PM Friday (tentative)"
   ]
  },
  {
   "cell_type": "code",
   "execution_count": 433,
   "metadata": {},
   "outputs": [
    {
     "ename": "KeyError",
     "evalue": "'CoarseWtPct'",
     "output_type": "error",
     "traceback": [
      "\u001b[0;31m---------------------------------------------------------------------------\u001b[0m",
      "\u001b[0;31mKeyError\u001b[0m                                  Traceback (most recent call last)",
      "\u001b[0;32m/Applications/miniconda3/lib/python3.5/site-packages/pandas/core/indexes/base.py\u001b[0m in \u001b[0;36mget_loc\u001b[0;34m(self, key, method, tolerance)\u001b[0m\n\u001b[1;32m   2524\u001b[0m             \u001b[0;32mtry\u001b[0m\u001b[0;34m:\u001b[0m\u001b[0;34m\u001b[0m\u001b[0m\n\u001b[0;32m-> 2525\u001b[0;31m                 \u001b[0;32mreturn\u001b[0m \u001b[0mself\u001b[0m\u001b[0;34m.\u001b[0m\u001b[0m_engine\u001b[0m\u001b[0;34m.\u001b[0m\u001b[0mget_loc\u001b[0m\u001b[0;34m(\u001b[0m\u001b[0mkey\u001b[0m\u001b[0;34m)\u001b[0m\u001b[0;34m\u001b[0m\u001b[0m\n\u001b[0m\u001b[1;32m   2526\u001b[0m             \u001b[0;32mexcept\u001b[0m \u001b[0mKeyError\u001b[0m\u001b[0;34m:\u001b[0m\u001b[0;34m\u001b[0m\u001b[0m\n",
      "\u001b[0;32mpandas/_libs/index.pyx\u001b[0m in \u001b[0;36mpandas._libs.index.IndexEngine.get_loc\u001b[0;34m()\u001b[0m\n",
      "\u001b[0;32mpandas/_libs/index.pyx\u001b[0m in \u001b[0;36mpandas._libs.index.IndexEngine.get_loc\u001b[0;34m()\u001b[0m\n",
      "\u001b[0;32mpandas/_libs/hashtable_class_helper.pxi\u001b[0m in \u001b[0;36mpandas._libs.hashtable.PyObjectHashTable.get_item\u001b[0;34m()\u001b[0m\n",
      "\u001b[0;32mpandas/_libs/hashtable_class_helper.pxi\u001b[0m in \u001b[0;36mpandas._libs.hashtable.PyObjectHashTable.get_item\u001b[0;34m()\u001b[0m\n",
      "\u001b[0;31mKeyError\u001b[0m: 'CoarseWtPct'",
      "\nDuring handling of the above exception, another exception occurred:\n",
      "\u001b[0;31mKeyError\u001b[0m                                  Traceback (most recent call last)",
      "\u001b[0;32m<ipython-input-433-ef44ce65dd6e>\u001b[0m in \u001b[0;36m<module>\u001b[0;34m()\u001b[0m\n\u001b[1;32m      4\u001b[0m \u001b[0;31m#  SUBLOT #4: PERCENT CUMULATIVE SIZE FRACTIONS per sample site:\u001b[0m\u001b[0;34m\u001b[0m\u001b[0;34m\u001b[0m\u001b[0m\n\u001b[1;32m      5\u001b[0m \u001b[0;31m#sns.barplot(x='FinesWtPct',  y='Position', data=df, orient='h', ax=axh3)\u001b[0m\u001b[0;34m\u001b[0m\u001b[0;34m\u001b[0m\u001b[0m\n\u001b[0;32m----> 6\u001b[0;31m \u001b[0maxh3\u001b[0m\u001b[0;34m.\u001b[0m\u001b[0mplot\u001b[0m\u001b[0;34m(\u001b[0m\u001b[0mdf\u001b[0m\u001b[0;34m[\u001b[0m\u001b[0;34m'CoarseWtPct'\u001b[0m\u001b[0;34m]\u001b[0m\u001b[0;34m,\u001b[0m \u001b[0mdf\u001b[0m\u001b[0;34m[\u001b[0m\u001b[0;34m'Position'\u001b[0m\u001b[0;34m]\u001b[0m\u001b[0;34m,\u001b[0m \u001b[0;34m'r-'\u001b[0m\u001b[0;34m,\u001b[0m \u001b[0mlabel\u001b[0m\u001b[0;34m=\u001b[0m\u001b[0;34m'Gravel'\u001b[0m\u001b[0;34m,\u001b[0m \u001b[0mlinewidth\u001b[0m\u001b[0;34m=\u001b[0m\u001b[0;36m2\u001b[0m \u001b[0;34m)\u001b[0m\u001b[0;34m\u001b[0m\u001b[0m\n\u001b[0m\u001b[1;32m      7\u001b[0m \u001b[0maxh3\u001b[0m\u001b[0;34m.\u001b[0m\u001b[0mplot\u001b[0m\u001b[0;34m(\u001b[0m\u001b[0mdf\u001b[0m\u001b[0;34m[\u001b[0m\u001b[0;34m'CSCumWtPct'\u001b[0m\u001b[0;34m]\u001b[0m\u001b[0;34m,\u001b[0m \u001b[0mdf\u001b[0m\u001b[0;34m[\u001b[0m\u001b[0;34m'Position'\u001b[0m\u001b[0;34m]\u001b[0m\u001b[0;34m,\u001b[0m \u001b[0;34m'y-'\u001b[0m\u001b[0;34m,\u001b[0m \u001b[0mlabel\u001b[0m\u001b[0;34m=\u001b[0m\u001b[0;34m'Sand'\u001b[0m\u001b[0;34m,\u001b[0m \u001b[0mlinewidth\u001b[0m\u001b[0;34m=\u001b[0m\u001b[0;36m2\u001b[0m \u001b[0;34m)\u001b[0m\u001b[0;34m\u001b[0m\u001b[0m\n\u001b[1;32m      8\u001b[0m \u001b[0maxh3\u001b[0m\u001b[0;34m.\u001b[0m\u001b[0mplot\u001b[0m\u001b[0;34m(\u001b[0m\u001b[0mdf\u001b[0m\u001b[0;34m[\u001b[0m\u001b[0;34m'CSFCumWtPct'\u001b[0m\u001b[0;34m]\u001b[0m\u001b[0;34m,\u001b[0m \u001b[0mdf\u001b[0m\u001b[0;34m[\u001b[0m\u001b[0;34m'Position'\u001b[0m\u001b[0;34m]\u001b[0m\u001b[0;34m,\u001b[0m \u001b[0;34m'g-'\u001b[0m\u001b[0;34m,\u001b[0m \u001b[0mlabel\u001b[0m\u001b[0;34m=\u001b[0m\u001b[0;34m'Mud'\u001b[0m\u001b[0;34m,\u001b[0m \u001b[0mlinewidth\u001b[0m\u001b[0;34m=\u001b[0m\u001b[0;36m2\u001b[0m \u001b[0;34m)\u001b[0m\u001b[0;34m\u001b[0m\u001b[0m\n",
      "\u001b[0;32m/Applications/miniconda3/lib/python3.5/site-packages/pandas/core/frame.py\u001b[0m in \u001b[0;36m__getitem__\u001b[0;34m(self, key)\u001b[0m\n\u001b[1;32m   2137\u001b[0m             \u001b[0;32mreturn\u001b[0m \u001b[0mself\u001b[0m\u001b[0;34m.\u001b[0m\u001b[0m_getitem_multilevel\u001b[0m\u001b[0;34m(\u001b[0m\u001b[0mkey\u001b[0m\u001b[0;34m)\u001b[0m\u001b[0;34m\u001b[0m\u001b[0m\n\u001b[1;32m   2138\u001b[0m         \u001b[0;32melse\u001b[0m\u001b[0;34m:\u001b[0m\u001b[0;34m\u001b[0m\u001b[0m\n\u001b[0;32m-> 2139\u001b[0;31m             \u001b[0;32mreturn\u001b[0m \u001b[0mself\u001b[0m\u001b[0;34m.\u001b[0m\u001b[0m_getitem_column\u001b[0m\u001b[0;34m(\u001b[0m\u001b[0mkey\u001b[0m\u001b[0;34m)\u001b[0m\u001b[0;34m\u001b[0m\u001b[0m\n\u001b[0m\u001b[1;32m   2140\u001b[0m \u001b[0;34m\u001b[0m\u001b[0m\n\u001b[1;32m   2141\u001b[0m     \u001b[0;32mdef\u001b[0m \u001b[0m_getitem_column\u001b[0m\u001b[0;34m(\u001b[0m\u001b[0mself\u001b[0m\u001b[0;34m,\u001b[0m \u001b[0mkey\u001b[0m\u001b[0;34m)\u001b[0m\u001b[0;34m:\u001b[0m\u001b[0;34m\u001b[0m\u001b[0m\n",
      "\u001b[0;32m/Applications/miniconda3/lib/python3.5/site-packages/pandas/core/frame.py\u001b[0m in \u001b[0;36m_getitem_column\u001b[0;34m(self, key)\u001b[0m\n\u001b[1;32m   2144\u001b[0m         \u001b[0;31m# get column\u001b[0m\u001b[0;34m\u001b[0m\u001b[0;34m\u001b[0m\u001b[0m\n\u001b[1;32m   2145\u001b[0m         \u001b[0;32mif\u001b[0m \u001b[0mself\u001b[0m\u001b[0;34m.\u001b[0m\u001b[0mcolumns\u001b[0m\u001b[0;34m.\u001b[0m\u001b[0mis_unique\u001b[0m\u001b[0;34m:\u001b[0m\u001b[0;34m\u001b[0m\u001b[0m\n\u001b[0;32m-> 2146\u001b[0;31m             \u001b[0;32mreturn\u001b[0m \u001b[0mself\u001b[0m\u001b[0;34m.\u001b[0m\u001b[0m_get_item_cache\u001b[0m\u001b[0;34m(\u001b[0m\u001b[0mkey\u001b[0m\u001b[0;34m)\u001b[0m\u001b[0;34m\u001b[0m\u001b[0m\n\u001b[0m\u001b[1;32m   2147\u001b[0m \u001b[0;34m\u001b[0m\u001b[0m\n\u001b[1;32m   2148\u001b[0m         \u001b[0;31m# duplicate columns & possible reduce dimensionality\u001b[0m\u001b[0;34m\u001b[0m\u001b[0;34m\u001b[0m\u001b[0m\n",
      "\u001b[0;32m/Applications/miniconda3/lib/python3.5/site-packages/pandas/core/generic.py\u001b[0m in \u001b[0;36m_get_item_cache\u001b[0;34m(self, item)\u001b[0m\n\u001b[1;32m   1840\u001b[0m         \u001b[0mres\u001b[0m \u001b[0;34m=\u001b[0m \u001b[0mcache\u001b[0m\u001b[0;34m.\u001b[0m\u001b[0mget\u001b[0m\u001b[0;34m(\u001b[0m\u001b[0mitem\u001b[0m\u001b[0;34m)\u001b[0m\u001b[0;34m\u001b[0m\u001b[0m\n\u001b[1;32m   1841\u001b[0m         \u001b[0;32mif\u001b[0m \u001b[0mres\u001b[0m \u001b[0;32mis\u001b[0m \u001b[0;32mNone\u001b[0m\u001b[0;34m:\u001b[0m\u001b[0;34m\u001b[0m\u001b[0m\n\u001b[0;32m-> 1842\u001b[0;31m             \u001b[0mvalues\u001b[0m \u001b[0;34m=\u001b[0m \u001b[0mself\u001b[0m\u001b[0;34m.\u001b[0m\u001b[0m_data\u001b[0m\u001b[0;34m.\u001b[0m\u001b[0mget\u001b[0m\u001b[0;34m(\u001b[0m\u001b[0mitem\u001b[0m\u001b[0;34m)\u001b[0m\u001b[0;34m\u001b[0m\u001b[0m\n\u001b[0m\u001b[1;32m   1843\u001b[0m             \u001b[0mres\u001b[0m \u001b[0;34m=\u001b[0m \u001b[0mself\u001b[0m\u001b[0;34m.\u001b[0m\u001b[0m_box_item_values\u001b[0m\u001b[0;34m(\u001b[0m\u001b[0mitem\u001b[0m\u001b[0;34m,\u001b[0m \u001b[0mvalues\u001b[0m\u001b[0;34m)\u001b[0m\u001b[0;34m\u001b[0m\u001b[0m\n\u001b[1;32m   1844\u001b[0m             \u001b[0mcache\u001b[0m\u001b[0;34m[\u001b[0m\u001b[0mitem\u001b[0m\u001b[0;34m]\u001b[0m \u001b[0;34m=\u001b[0m \u001b[0mres\u001b[0m\u001b[0;34m\u001b[0m\u001b[0m\n",
      "\u001b[0;32m/Applications/miniconda3/lib/python3.5/site-packages/pandas/core/internals.py\u001b[0m in \u001b[0;36mget\u001b[0;34m(self, item, fastpath)\u001b[0m\n\u001b[1;32m   3841\u001b[0m \u001b[0;34m\u001b[0m\u001b[0m\n\u001b[1;32m   3842\u001b[0m             \u001b[0;32mif\u001b[0m \u001b[0;32mnot\u001b[0m \u001b[0misna\u001b[0m\u001b[0;34m(\u001b[0m\u001b[0mitem\u001b[0m\u001b[0;34m)\u001b[0m\u001b[0;34m:\u001b[0m\u001b[0;34m\u001b[0m\u001b[0m\n\u001b[0;32m-> 3843\u001b[0;31m                 \u001b[0mloc\u001b[0m \u001b[0;34m=\u001b[0m \u001b[0mself\u001b[0m\u001b[0;34m.\u001b[0m\u001b[0mitems\u001b[0m\u001b[0;34m.\u001b[0m\u001b[0mget_loc\u001b[0m\u001b[0;34m(\u001b[0m\u001b[0mitem\u001b[0m\u001b[0;34m)\u001b[0m\u001b[0;34m\u001b[0m\u001b[0m\n\u001b[0m\u001b[1;32m   3844\u001b[0m             \u001b[0;32melse\u001b[0m\u001b[0;34m:\u001b[0m\u001b[0;34m\u001b[0m\u001b[0m\n\u001b[1;32m   3845\u001b[0m                 \u001b[0mindexer\u001b[0m \u001b[0;34m=\u001b[0m \u001b[0mnp\u001b[0m\u001b[0;34m.\u001b[0m\u001b[0marange\u001b[0m\u001b[0;34m(\u001b[0m\u001b[0mlen\u001b[0m\u001b[0;34m(\u001b[0m\u001b[0mself\u001b[0m\u001b[0;34m.\u001b[0m\u001b[0mitems\u001b[0m\u001b[0;34m)\u001b[0m\u001b[0;34m)\u001b[0m\u001b[0;34m[\u001b[0m\u001b[0misna\u001b[0m\u001b[0;34m(\u001b[0m\u001b[0mself\u001b[0m\u001b[0;34m.\u001b[0m\u001b[0mitems\u001b[0m\u001b[0;34m)\u001b[0m\u001b[0;34m]\u001b[0m\u001b[0;34m\u001b[0m\u001b[0m\n",
      "\u001b[0;32m/Applications/miniconda3/lib/python3.5/site-packages/pandas/core/indexes/base.py\u001b[0m in \u001b[0;36mget_loc\u001b[0;34m(self, key, method, tolerance)\u001b[0m\n\u001b[1;32m   2525\u001b[0m                 \u001b[0;32mreturn\u001b[0m \u001b[0mself\u001b[0m\u001b[0;34m.\u001b[0m\u001b[0m_engine\u001b[0m\u001b[0;34m.\u001b[0m\u001b[0mget_loc\u001b[0m\u001b[0;34m(\u001b[0m\u001b[0mkey\u001b[0m\u001b[0;34m)\u001b[0m\u001b[0;34m\u001b[0m\u001b[0m\n\u001b[1;32m   2526\u001b[0m             \u001b[0;32mexcept\u001b[0m \u001b[0mKeyError\u001b[0m\u001b[0;34m:\u001b[0m\u001b[0;34m\u001b[0m\u001b[0m\n\u001b[0;32m-> 2527\u001b[0;31m                 \u001b[0;32mreturn\u001b[0m \u001b[0mself\u001b[0m\u001b[0;34m.\u001b[0m\u001b[0m_engine\u001b[0m\u001b[0;34m.\u001b[0m\u001b[0mget_loc\u001b[0m\u001b[0;34m(\u001b[0m\u001b[0mself\u001b[0m\u001b[0;34m.\u001b[0m\u001b[0m_maybe_cast_indexer\u001b[0m\u001b[0;34m(\u001b[0m\u001b[0mkey\u001b[0m\u001b[0;34m)\u001b[0m\u001b[0;34m)\u001b[0m\u001b[0;34m\u001b[0m\u001b[0m\n\u001b[0m\u001b[1;32m   2528\u001b[0m \u001b[0;34m\u001b[0m\u001b[0m\n\u001b[1;32m   2529\u001b[0m         \u001b[0mindexer\u001b[0m \u001b[0;34m=\u001b[0m \u001b[0mself\u001b[0m\u001b[0;34m.\u001b[0m\u001b[0mget_indexer\u001b[0m\u001b[0;34m(\u001b[0m\u001b[0;34m[\u001b[0m\u001b[0mkey\u001b[0m\u001b[0;34m]\u001b[0m\u001b[0;34m,\u001b[0m \u001b[0mmethod\u001b[0m\u001b[0;34m=\u001b[0m\u001b[0mmethod\u001b[0m\u001b[0;34m,\u001b[0m \u001b[0mtolerance\u001b[0m\u001b[0;34m=\u001b[0m\u001b[0mtolerance\u001b[0m\u001b[0;34m)\u001b[0m\u001b[0;34m\u001b[0m\u001b[0m\n",
      "\u001b[0;32mpandas/_libs/index.pyx\u001b[0m in \u001b[0;36mpandas._libs.index.IndexEngine.get_loc\u001b[0;34m()\u001b[0m\n",
      "\u001b[0;32mpandas/_libs/index.pyx\u001b[0m in \u001b[0;36mpandas._libs.index.IndexEngine.get_loc\u001b[0;34m()\u001b[0m\n",
      "\u001b[0;32mpandas/_libs/hashtable_class_helper.pxi\u001b[0m in \u001b[0;36mpandas._libs.hashtable.PyObjectHashTable.get_item\u001b[0;34m()\u001b[0m\n",
      "\u001b[0;32mpandas/_libs/hashtable_class_helper.pxi\u001b[0m in \u001b[0;36mpandas._libs.hashtable.PyObjectHashTable.get_item\u001b[0;34m()\u001b[0m\n",
      "\u001b[0;31mKeyError\u001b[0m: 'CoarseWtPct'"
     ]
    }
   ],
   "source": [
    "### Deprecated 2-D histogram plot from # 10, above:\n",
    "\n",
    "\n",
    "#  SUBLOT #4: PERCENT CUMULATIVE SIZE FRACTIONS per sample site:\n",
    "#sns.barplot(x='FinesWtPct',  y='Position', data=df, orient='h', ax=axh3)\n",
    "axh3.plot(df['CoarseWtPct'], df['Position'], 'r-', label='Gravel', linewidth=2 )\n",
    "axh3.plot(df['CSCumWtPct'], df['Position'], 'y-', label='Sand', linewidth=2 )\n",
    "axh3.plot(df['CSFCumWtPct'], df['Position'], 'g-', label='Mud', linewidth=2 )\n",
    "axh3.fill_betweenx( df['Position'],df['BaselineWtPct'], df['CoarseWtPct'],  facecolor='red')\n",
    "axh3.fill_betweenx( df['Position'],df['CoarseWtPct'], df['CSCumWtPct'],  facecolor='yellow')\n",
    "axh3.fill_betweenx( df['Position'],df['CSCumWtPct'], df['CSFCumWtPct'],  facecolor='green')\n",
    "labels=['Gravel','Snd','Silt/Clay']\n",
    "colors=['Red','Green','Blue']\n",
    "\n",
    "sns.despine(offset=10, top=True, right=True, ax=axh3)\n",
    "axh3.invert_yaxis()\n",
    "axh3.set_xticks([0,25,50,75,100])\n",
    "#axh3.set_yticks([])\n",
    "axh3.set_xlabel('Cumulative Weight %')\n",
    "axh3.set_ylabel('')\n",
    "axh3.legend(loc=(0.3,0.37) )     ### for VC01:(0.4,0.3) ; for VC27:  ; VC10 and VC37: (0.3,0.37)\n",
    "axh3.set_title('Cumulative Gravel/Sand/Mud')\n",
    "\n"
   ]
  },
  {
   "cell_type": "code",
   "execution_count": null,
   "metadata": {
    "collapsed": true
   },
   "outputs": [],
   "source": [
    "### BAR PLOTS:     NOT USED...\n",
    "sns.set(style='ticks')\n",
    "#f, ax3 = plt.subplots(1, figsize=(7,14))\n",
    "\n",
    "xticLbls=['-2.25','-1.0', '-0.5','0.0', '0.5', '1.0', '1.5', '2.0',' 2.5', '3.0', '3.5', '4.0', 'fines']\n",
    "xticPos=[-2.25,-1.0, -0.5, 0.0, 0.5, 1.0, 1.5, 2.0, 2.5, 3.0, 3.5, 4.0, 4.5]\n",
    "\n",
    "#sns.FacetGrid(pldf, row=\"Position\", hue='Position', palette='Set2').map(sns.barplot, data=pldf, x='Phi', y='WtPct')\n",
    "#g = sns.factorplot(x=\"Phi\", y=\"WtPct\", col=\"Position\", data=pldf)\n",
    "g = sns.factorplot(x=\"Phi\", y=\"WtPct\", row=\"Position\", data=pldf, kind='bar', orient='v', size=3, aspect=2, sharex=False)\n",
    "# aspect=15, size=.5,\n",
    "#plt.xticks(xticPos, xticLbls, fontsize=16, rotation=45 )\n",
    "#plt.yticks(fontsize=16)\n",
    "\n",
    "#plt.xlabel('Weight Percent', fontsize=18)\n",
    "#plt.ylabel('Down Core Position (ft)', fontsize=18)\n",
    "#plt.title('Core VC-10 - Dry Seive Weight Percentage', fontsize=20)\n",
    "plt.savefig('/Users/paulp/GoogleDrive/projects/BOEM/graphics/'+id+'_DrySSeiveBarPlots.pdf')"
   ]
  }
 ],
 "metadata": {
  "kernelspec": {
   "display_name": "Python 3",
   "language": "python",
   "name": "python3"
  },
  "language_info": {
   "codemirror_mode": {
    "name": "ipython",
    "version": 3
   },
   "file_extension": ".py",
   "mimetype": "text/x-python",
   "name": "python",
   "nbconvert_exporter": "python",
   "pygments_lexer": "ipython3",
   "version": "3.5.4"
  }
 },
 "nbformat": 4,
 "nbformat_minor": 2
}
